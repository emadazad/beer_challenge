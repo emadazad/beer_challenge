{
  "nbformat": 4,
  "nbformat_minor": 0,
  "metadata": {
    "colab": {
      "name": "beer_challenge.ipynb",
      "provenance": [],
      "toc_visible": true,
      "authorship_tag": "ABX9TyMxKeBzYM/PuwabMI0myJhl",
      "include_colab_link": true
    },
    "kernelspec": {
      "name": "python3",
      "display_name": "Python 3"
    }
  },
  "cells": [
    {
      "cell_type": "markdown",
      "metadata": {
        "id": "view-in-github",
        "colab_type": "text"
      },
      "source": [
        "<a href=\"https://colab.research.google.com/github/emadazad/beer_challenge/blob/master/beer_challenge.ipynb\" target=\"_parent\"><img src=\"https://colab.research.google.com/assets/colab-badge.svg\" alt=\"Open In Colab\"/></a>"
      ]
    },
    {
      "cell_type": "code",
      "metadata": {
        "id": "eVhT4p6jI_Ji",
        "colab_type": "code",
        "colab": {}
      },
      "source": [
        "import pandas as pd\n",
        "import numpy as np\n",
        "import matplotlib.pyplot as plt"
      ],
      "execution_count": null,
      "outputs": []
    },
    {
      "cell_type": "markdown",
      "metadata": {
        "id": "HdvoP_AUNWjV",
        "colab_type": "text"
      },
      "source": [
        "# Preprocessing the Data"
      ]
    },
    {
      "cell_type": "markdown",
      "metadata": {
        "id": "CS0f7OUeRnKN",
        "colab_type": "text"
      },
      "source": [
        "First, the data is read, and null values are taken care of. One easy way is to through away all the rows with NaN values but here we take the hard way and try to fill them with a clever ideas. Also, the search for duplicate values and unreasonable entries is explained in each section. Feel free to skip the Brewery and Beer info if this chapter is too long. \n"
      ]
    },
    {
      "cell_type": "code",
      "metadata": {
        "id": "Un2fjR3AJ-dH",
        "colab_type": "code",
        "colab": {
          "base_uri": "https://localhost:8080/",
          "height": 700
        },
        "outputId": "3da0f63e-f989-45e7-82ee-80b5e9b22592"
      },
      "source": [
        "# reading the csv file into a pandas dataframe\n",
        "df = pd.read_csv('/content/beer_reviews.csv')\n",
        "# printing data info, it turns out the column names don't have any spaces\n",
        "print(df.info())\n",
        "# previewing 5 samples\n",
        "df.head()"
      ],
      "execution_count": null,
      "outputs": [
        {
          "output_type": "stream",
          "text": [
            "<class 'pandas.core.frame.DataFrame'>\n",
            "RangeIndex: 1586614 entries, 0 to 1586613\n",
            "Data columns (total 13 columns):\n",
            " #   Column              Non-Null Count    Dtype  \n",
            "---  ------              --------------    -----  \n",
            " 0   brewery_id          1586614 non-null  int64  \n",
            " 1   brewery_name        1586599 non-null  object \n",
            " 2   review_time         1586614 non-null  int64  \n",
            " 3   review_overall      1586614 non-null  float64\n",
            " 4   review_aroma        1586614 non-null  float64\n",
            " 5   review_appearance   1586614 non-null  float64\n",
            " 6   review_profilename  1586266 non-null  object \n",
            " 7   beer_style          1586614 non-null  object \n",
            " 8   review_palate       1586614 non-null  float64\n",
            " 9   review_taste        1586614 non-null  float64\n",
            " 10  beer_name           1586614 non-null  object \n",
            " 11  beer_abv            1518829 non-null  float64\n",
            " 12  beer_beerid         1586614 non-null  int64  \n",
            "dtypes: float64(6), int64(3), object(4)\n",
            "memory usage: 157.4+ MB\n",
            "None\n"
          ],
          "name": "stdout"
        },
        {
          "output_type": "execute_result",
          "data": {
            "text/html": [
              "<div>\n",
              "<style scoped>\n",
              "    .dataframe tbody tr th:only-of-type {\n",
              "        vertical-align: middle;\n",
              "    }\n",
              "\n",
              "    .dataframe tbody tr th {\n",
              "        vertical-align: top;\n",
              "    }\n",
              "\n",
              "    .dataframe thead th {\n",
              "        text-align: right;\n",
              "    }\n",
              "</style>\n",
              "<table border=\"1\" class=\"dataframe\">\n",
              "  <thead>\n",
              "    <tr style=\"text-align: right;\">\n",
              "      <th></th>\n",
              "      <th>brewery_id</th>\n",
              "      <th>brewery_name</th>\n",
              "      <th>review_time</th>\n",
              "      <th>review_overall</th>\n",
              "      <th>review_aroma</th>\n",
              "      <th>review_appearance</th>\n",
              "      <th>review_profilename</th>\n",
              "      <th>beer_style</th>\n",
              "      <th>review_palate</th>\n",
              "      <th>review_taste</th>\n",
              "      <th>beer_name</th>\n",
              "      <th>beer_abv</th>\n",
              "      <th>beer_beerid</th>\n",
              "    </tr>\n",
              "  </thead>\n",
              "  <tbody>\n",
              "    <tr>\n",
              "      <th>0</th>\n",
              "      <td>10325</td>\n",
              "      <td>Vecchio Birraio</td>\n",
              "      <td>1234817823</td>\n",
              "      <td>1.5</td>\n",
              "      <td>2.0</td>\n",
              "      <td>2.5</td>\n",
              "      <td>stcules</td>\n",
              "      <td>Hefeweizen</td>\n",
              "      <td>1.5</td>\n",
              "      <td>1.5</td>\n",
              "      <td>Sausa Weizen</td>\n",
              "      <td>5.0</td>\n",
              "      <td>47986</td>\n",
              "    </tr>\n",
              "    <tr>\n",
              "      <th>1</th>\n",
              "      <td>10325</td>\n",
              "      <td>Vecchio Birraio</td>\n",
              "      <td>1235915097</td>\n",
              "      <td>3.0</td>\n",
              "      <td>2.5</td>\n",
              "      <td>3.0</td>\n",
              "      <td>stcules</td>\n",
              "      <td>English Strong Ale</td>\n",
              "      <td>3.0</td>\n",
              "      <td>3.0</td>\n",
              "      <td>Red Moon</td>\n",
              "      <td>6.2</td>\n",
              "      <td>48213</td>\n",
              "    </tr>\n",
              "    <tr>\n",
              "      <th>2</th>\n",
              "      <td>10325</td>\n",
              "      <td>Vecchio Birraio</td>\n",
              "      <td>1235916604</td>\n",
              "      <td>3.0</td>\n",
              "      <td>2.5</td>\n",
              "      <td>3.0</td>\n",
              "      <td>stcules</td>\n",
              "      <td>Foreign / Export Stout</td>\n",
              "      <td>3.0</td>\n",
              "      <td>3.0</td>\n",
              "      <td>Black Horse Black Beer</td>\n",
              "      <td>6.5</td>\n",
              "      <td>48215</td>\n",
              "    </tr>\n",
              "    <tr>\n",
              "      <th>3</th>\n",
              "      <td>10325</td>\n",
              "      <td>Vecchio Birraio</td>\n",
              "      <td>1234725145</td>\n",
              "      <td>3.0</td>\n",
              "      <td>3.0</td>\n",
              "      <td>3.5</td>\n",
              "      <td>stcules</td>\n",
              "      <td>German Pilsener</td>\n",
              "      <td>2.5</td>\n",
              "      <td>3.0</td>\n",
              "      <td>Sausa Pils</td>\n",
              "      <td>5.0</td>\n",
              "      <td>47969</td>\n",
              "    </tr>\n",
              "    <tr>\n",
              "      <th>4</th>\n",
              "      <td>1075</td>\n",
              "      <td>Caldera Brewing Company</td>\n",
              "      <td>1293735206</td>\n",
              "      <td>4.0</td>\n",
              "      <td>4.5</td>\n",
              "      <td>4.0</td>\n",
              "      <td>johnmichaelsen</td>\n",
              "      <td>American Double / Imperial IPA</td>\n",
              "      <td>4.0</td>\n",
              "      <td>4.5</td>\n",
              "      <td>Cauldron DIPA</td>\n",
              "      <td>7.7</td>\n",
              "      <td>64883</td>\n",
              "    </tr>\n",
              "  </tbody>\n",
              "</table>\n",
              "</div>"
            ],
            "text/plain": [
              "   brewery_id             brewery_name  ...  beer_abv  beer_beerid\n",
              "0       10325          Vecchio Birraio  ...       5.0        47986\n",
              "1       10325          Vecchio Birraio  ...       6.2        48213\n",
              "2       10325          Vecchio Birraio  ...       6.5        48215\n",
              "3       10325          Vecchio Birraio  ...       5.0        47969\n",
              "4        1075  Caldera Brewing Company  ...       7.7        64883\n",
              "\n",
              "[5 rows x 13 columns]"
            ]
          },
          "metadata": {
            "tags": []
          },
          "execution_count": 2
        }
      ]
    },
    {
      "cell_type": "code",
      "metadata": {
        "id": "0ZnALD3UTuAZ",
        "colab_type": "code",
        "colab": {
          "base_uri": "https://localhost:8080/",
          "height": 68
        },
        "outputId": "346ddae4-496e-46ca-ed06-b2cc01c41965"
      },
      "source": [
        "# Checking for nan values\n",
        "for head in df.columns:\n",
        "  if df[head].isnull().values.any():\n",
        "    print('%s has %d NaN value(s).' % (head, df[head].isnull().values.sum()))"
      ],
      "execution_count": null,
      "outputs": [
        {
          "output_type": "stream",
          "text": [
            "brewery_name has 15 NaN value(s).\n",
            "review_profilename has 348 NaN value(s).\n",
            "beer_abv has 67785 NaN value(s).\n"
          ],
          "name": "stdout"
        }
      ]
    },
    {
      "cell_type": "markdown",
      "metadata": {
        "id": "CGQHxmcjaHeD",
        "colab_type": "text"
      },
      "source": [
        "It seems that three columns have missing data, so for each, we have to come up with a way to replace them with real data. \n",
        "\n",
        "\n",
        "1.   For the profile_name, we can simply replace them with \"unknown\", but we have to be careful that \"unknown\" is not a person's profile name.\n"
      ]
    },
    {
      "cell_type": "code",
      "metadata": {
        "id": "Rj8xUtWyYnNn",
        "colab_type": "code",
        "colab": {
          "base_uri": "https://localhost:8080/",
          "height": 51
        },
        "outputId": "d349e6b0-0446-4987-f69e-6930150ab31f"
      },
      "source": [
        "# Checking for Unknown username and replace the Nan values for profilename\n",
        "print('Is unknown in profile names?', ('unknown' in df.review_profilename.unique()))\n",
        "print('So, replace unknown with NaN values in data')\n",
        "df.review_profilename = df.review_profilename.fillna('unknown')"
      ],
      "execution_count": null,
      "outputs": [
        {
          "output_type": "stream",
          "text": [
            "Is unknown in profile names? False\n",
            "So, replace unknown with NaN values in data\n"
          ],
          "name": "stdout"
        }
      ]
    },
    {
      "cell_type": "markdown",
      "metadata": {
        "id": "9pq0ymwECLv5",
        "colab_type": "text"
      },
      "source": [
        "2.   For brewery_name, there are only 2 ids who don't have a name, so we will call them no_name1 and no_name2, respectively. That is,\n",
        "\n",
        "\n",
        "*   1193 -> no_name1\n",
        "*   27 -> no_name2\n",
        "\n"
      ]
    },
    {
      "cell_type": "code",
      "metadata": {
        "id": "P1Q-7dAwCJFt",
        "colab_type": "code",
        "colab": {
          "base_uri": "https://localhost:8080/",
          "height": 224
        },
        "outputId": "88bff170-7fbf-45b2-92b0-d982fdb10d13"
      },
      "source": [
        "# Finding the ids with no name\n",
        "print('ids with no name:', df[df.brewery_name.isna()].brewery_id.unique())\n",
        "# Filling the missing data with no_name1 and 2\n",
        "df.brewery_name[df.brewery_id == 1193] = df.brewery_name[df.brewery_id == 1193].fillna('no_name1') \n",
        "df.brewery_name[df.brewery_id == 27] = df.brewery_name[df.brewery_id == 27].fillna('no_name2')"
      ],
      "execution_count": null,
      "outputs": [
        {
          "output_type": "stream",
          "text": [
            "ids with no name: [1193   27]\n"
          ],
          "name": "stdout"
        },
        {
          "output_type": "stream",
          "text": [
            "/usr/local/lib/python3.6/dist-packages/ipykernel_launcher.py:4: SettingWithCopyWarning: \n",
            "A value is trying to be set on a copy of a slice from a DataFrame\n",
            "\n",
            "See the caveats in the documentation: https://pandas.pydata.org/pandas-docs/stable/user_guide/indexing.html#returning-a-view-versus-a-copy\n",
            "  after removing the cwd from sys.path.\n",
            "/usr/local/lib/python3.6/dist-packages/ipykernel_launcher.py:5: SettingWithCopyWarning: \n",
            "A value is trying to be set on a copy of a slice from a DataFrame\n",
            "\n",
            "See the caveats in the documentation: https://pandas.pydata.org/pandas-docs/stable/user_guide/indexing.html#returning-a-view-versus-a-copy\n",
            "  \"\"\"\n"
          ],
          "name": "stderr"
        }
      ]
    },
    {
      "cell_type": "markdown",
      "metadata": {
        "id": "dWfaW9FICPXF",
        "colab_type": "text"
      },
      "source": [
        "3.   Things get more serious for beer_abv. There are better ways to fill in these missing values, but for the sake of this notebook and considering question 1, the average ABV of a company is replaced by the null values.\n",
        "Also, for companies that have not published their beer_abv, the average of all the ABVs is replaced."
      ]
    },
    {
      "cell_type": "code",
      "metadata": {
        "id": "IyAApN8dgdu9",
        "colab_type": "code",
        "colab": {
          "base_uri": "https://localhost:8080/",
          "height": 34
        },
        "outputId": "40995d4c-b7eb-49ac-fba3-8706b923ead7"
      },
      "source": [
        "####### WARNING: This might take 30-120 seconds ####### \n",
        "# because the only Nan values are in the beer_abv column, \n",
        "# we can use df without .beer_abv\n",
        "df.fillna(df.groupby('brewery_name').transform('mean'), inplace=True)\n",
        "# replace the rest with average abv\n",
        "df.fillna(df.beer_abv.mean(), inplace=True)\n",
        "# Do we have NaN values?\n",
        "if df.isnull().any().sum() == 0:\n",
        "  print('Congratulations! No more NaN values.')"
      ],
      "execution_count": null,
      "outputs": [
        {
          "output_type": "stream",
          "text": [
            "Congratulations! No more NaN values.\n"
          ],
          "name": "stdout"
        }
      ]
    },
    {
      "cell_type": "code",
      "metadata": {
        "id": "iuitxxwtRUEI",
        "colab_type": "code",
        "colab": {
          "base_uri": "https://localhost:8080/",
          "height": 119
        },
        "outputId": "c5b52823-63ca-4240-8778-89f387aa6d31"
      },
      "source": [
        "# Scale checking\n",
        "# finding out what are the scale of some columns\n",
        "print('range value of review_overall:', \n",
        "      (df['review_overall'].min() , df['review_overall'].max())) \n",
        "print('range value of review_aroma:', \n",
        "      (df['review_aroma'].min() , df['review_aroma'].max())) \n",
        "print('range value of review_appearance:', \n",
        "      (df['review_appearance'].min() , df['review_appearance'].max())) \n",
        "print('range value of review_palate:', \n",
        "      (df['review_palate'].min() , df['review_palate'].max())) \n",
        "print('range value of review_taste:', \n",
        "      (df['review_taste'].min() , df['review_taste'].max())) \n",
        "print('range value of beer_abv:', \n",
        "      (df['beer_abv'].min() , df['beer_abv'].max())) \n",
        "# The review range are between 0 and 5 and the beer_abv fall into (0,58) "
      ],
      "execution_count": null,
      "outputs": [
        {
          "output_type": "stream",
          "text": [
            "range value of review_overall: (0.0, 5.0)\n",
            "range value of review_aroma: (1.0, 5.0)\n",
            "range value of review_appearance: (0.0, 5.0)\n",
            "range value of review_palate: (1.0, 5.0)\n",
            "range value of review_taste: (1.0, 5.0)\n",
            "range value of beer_abv: (0.01, 57.7)\n"
          ],
          "name": "stdout"
        }
      ]
    },
    {
      "cell_type": "markdown",
      "metadata": {
        "id": "et-jcu2lQLA_",
        "colab_type": "text"
      },
      "source": [
        "## Brewery info\n",
        "\n"
      ]
    },
    {
      "cell_type": "markdown",
      "metadata": {
        "id": "C_EsZ4wco-TY",
        "colab_type": "text"
      },
      "source": [
        "Here we learn more about each brewery. It seems like some brewery names have more than one id associate with them. \n",
        "By the assumption that these are different branches of a brewery, we make decisions based on names."
      ]
    },
    {
      "cell_type": "code",
      "metadata": {
        "id": "-pOVlTptMDZk",
        "colab_type": "code",
        "colab": {
          "base_uri": "https://localhost:8080/",
          "height": 34
        },
        "outputId": "42bee212-0a22-4a56-8d74-6e15b4b21b04"
      },
      "source": [
        "# Check to see if we have duplicate names, ids or misspelling for breweries\n",
        "if df['brewery_name'].nunique() > df['brewery_id'].nunique():\n",
        "  print('Some of the brewery names are missppelled!') \n",
        "elif df['brewery_name'].nunique() < df['brewery_id'].nunique():\n",
        "  print('Duplicated ids for some brewery names!')\n",
        "else:\n",
        "  print(\"Success!\")"
      ],
      "execution_count": null,
      "outputs": [
        {
          "output_type": "stream",
          "text": [
            "Duplicated ids for some brewery names!\n"
          ],
          "name": "stdout"
        }
      ]
    },
    {
      "cell_type": "code",
      "metadata": {
        "id": "rXFfL-lo0XbE",
        "colab_type": "code",
        "colab": {
          "base_uri": "https://localhost:8080/",
          "height": 51
        },
        "outputId": "4e6dfb14-15ad-4919-db0e-f26fa035b5b7"
      },
      "source": [
        "print('There are %d unique brewery ids!' %df['brewery_id'].nunique())\n",
        "print('There are %d unique brewery names!' %df['brewery_name'].nunique())"
      ],
      "execution_count": null,
      "outputs": [
        {
          "output_type": "stream",
          "text": [
            "There are 5840 unique brewery ids!\n",
            "There are 5744 unique brewery names!\n"
          ],
          "name": "stdout"
        }
      ]
    },
    {
      "cell_type": "markdown",
      "metadata": {
        "id": "iotBS-40PqDr",
        "colab_type": "text"
      },
      "source": [
        "## Beer info"
      ]
    },
    {
      "cell_type": "markdown",
      "metadata": {
        "id": "zQxEXmdhocQ2",
        "colab_type": "text"
      },
      "source": [
        "Similar to brewery names, some beer names have more than one id. Again, we focus on the beer names rather than their ids."
      ]
    },
    {
      "cell_type": "code",
      "metadata": {
        "id": "juqU1Ct8SjRd",
        "colab_type": "code",
        "colab": {
          "base_uri": "https://localhost:8080/",
          "height": 51
        },
        "outputId": "470e67be-40cc-4420-d0f8-f7e641e004b5"
      },
      "source": [
        "# Check to see if we have duplicate names, ids or misspelling for beers\n",
        "if df['beer_name'].nunique() > df['beer_beerid'].nunique():\n",
        "  print('Some of the beer names are missppelled!') \n",
        "elif df['beer_name'].nunique() < df['beer_beerid'].nunique():\n",
        "  print('Duplicated ids for some beer names!')\n",
        "else:\n",
        "  print(\"Success!\")\n",
        "df['beer_name'].nunique() , df['beer_beerid'].nunique()"
      ],
      "execution_count": null,
      "outputs": [
        {
          "output_type": "stream",
          "text": [
            "Duplicated ids for some beer names!\n"
          ],
          "name": "stdout"
        },
        {
          "output_type": "execute_result",
          "data": {
            "text/plain": [
              "(56857, 66055)"
            ]
          },
          "metadata": {
            "tags": []
          },
          "execution_count": 10
        }
      ]
    },
    {
      "cell_type": "code",
      "metadata": {
        "id": "VIYx8y9c0qNr",
        "colab_type": "code",
        "colab": {
          "base_uri": "https://localhost:8080/",
          "height": 51
        },
        "outputId": "4c6429c9-2b84-4fc8-9568-d94ec8440b3e"
      },
      "source": [
        "print('There are %d unique beer ids!' %df['beer_beerid'].nunique())\n",
        "print('There are %d unique beer names!' %df['beer_name'].nunique())"
      ],
      "execution_count": null,
      "outputs": [
        {
          "output_type": "stream",
          "text": [
            "There are 66055 unique beer ids!\n",
            "There are 56857 unique beer names!\n"
          ],
          "name": "stdout"
        }
      ]
    },
    {
      "cell_type": "markdown",
      "metadata": {
        "id": "HBFiISLndsnu",
        "colab_type": "text"
      },
      "source": [
        "# Questions\n"
      ]
    },
    {
      "cell_type": "markdown",
      "metadata": {
        "id": "CDmxXvshr2dh",
        "colab_type": "text"
      },
      "source": [
        "## Question 1\n",
        "Which brewery produces the strongest beers by ABV%?\n",
        "\n",
        "Here, with our assumption, we query based on brewery's name, not id. From the table below, it is evident that **Schorschbräu** outperforms others for having the strongest beer and highest ABV average. \n",
        "\n"
      ]
    },
    {
      "cell_type": "code",
      "metadata": {
        "id": "ti8VK0o4rzBt",
        "colab_type": "code",
        "colab": {
          "base_uri": "https://localhost:8080/",
          "height": 424
        },
        "outputId": "76eb5eca-c806-4447-f4e1-33f1ba5688fd"
      },
      "source": [
        "print('average number of beers per brewery:', \n",
        "      df.drop_duplicates(['brewery_name', 'beer_name'])\\\n",
        "      .groupby('brewery_name').count().brewery_id.mean())\n",
        "print('highest beer ABV is:', df['beer_abv'].max())\n",
        "number_of_top_rank = 10\n",
        "query = df.drop_duplicates(['brewery_name', 'beer_name']).groupby('brewery_name')\\\n",
        "        .beer_abv.agg(['mean', 'std','min','max','count'])\\\n",
        "        .sort_values('mean', ascending= False)\n",
        "query.head(n=number_of_top_rank)"
      ],
      "execution_count": null,
      "outputs": [
        {
          "output_type": "stream",
          "text": [
            "average number of beers per brewery: 11.436281337047355\n",
            "highest beer ABV is: 57.7\n"
          ],
          "name": "stdout"
        },
        {
          "output_type": "execute_result",
          "data": {
            "text/html": [
              "<div>\n",
              "<style scoped>\n",
              "    .dataframe tbody tr th:only-of-type {\n",
              "        vertical-align: middle;\n",
              "    }\n",
              "\n",
              "    .dataframe tbody tr th {\n",
              "        vertical-align: top;\n",
              "    }\n",
              "\n",
              "    .dataframe thead th {\n",
              "        text-align: right;\n",
              "    }\n",
              "</style>\n",
              "<table border=\"1\" class=\"dataframe\">\n",
              "  <thead>\n",
              "    <tr style=\"text-align: right;\">\n",
              "      <th></th>\n",
              "      <th>mean</th>\n",
              "      <th>std</th>\n",
              "      <th>min</th>\n",
              "      <th>max</th>\n",
              "      <th>count</th>\n",
              "    </tr>\n",
              "    <tr>\n",
              "      <th>brewery_name</th>\n",
              "      <th></th>\n",
              "      <th></th>\n",
              "      <th></th>\n",
              "      <th></th>\n",
              "      <th></th>\n",
              "    </tr>\n",
              "  </thead>\n",
              "  <tbody>\n",
              "    <tr>\n",
              "      <th>Schorschbräu</th>\n",
              "      <td>24.690000</td>\n",
              "      <td>17.104880</td>\n",
              "      <td>4.9</td>\n",
              "      <td>57.7</td>\n",
              "      <td>10</td>\n",
              "    </tr>\n",
              "    <tr>\n",
              "      <th>Shoes Brewery</th>\n",
              "      <td>15.200000</td>\n",
              "      <td>NaN</td>\n",
              "      <td>15.2</td>\n",
              "      <td>15.2</td>\n",
              "      <td>1</td>\n",
              "    </tr>\n",
              "    <tr>\n",
              "      <th>Rome Brewing Company</th>\n",
              "      <td>13.960000</td>\n",
              "      <td>1.153499</td>\n",
              "      <td>12.4</td>\n",
              "      <td>16.0</td>\n",
              "      <td>6</td>\n",
              "    </tr>\n",
              "    <tr>\n",
              "      <th>Hurlimann Brewery</th>\n",
              "      <td>13.562500</td>\n",
              "      <td>0.718070</td>\n",
              "      <td>12.5</td>\n",
              "      <td>14.0</td>\n",
              "      <td>4</td>\n",
              "    </tr>\n",
              "    <tr>\n",
              "      <th>Alt-Oberurseler Brauhaus</th>\n",
              "      <td>13.200000</td>\n",
              "      <td>0.000000</td>\n",
              "      <td>13.2</td>\n",
              "      <td>13.2</td>\n",
              "      <td>3</td>\n",
              "    </tr>\n",
              "    <tr>\n",
              "      <th>Rascal Creek Brewing Co.</th>\n",
              "      <td>13.000000</td>\n",
              "      <td>NaN</td>\n",
              "      <td>13.0</td>\n",
              "      <td>13.0</td>\n",
              "      <td>1</td>\n",
              "    </tr>\n",
              "    <tr>\n",
              "      <th>Monks Porter House</th>\n",
              "      <td>12.466667</td>\n",
              "      <td>3.165965</td>\n",
              "      <td>10.3</td>\n",
              "      <td>16.1</td>\n",
              "      <td>3</td>\n",
              "    </tr>\n",
              "    <tr>\n",
              "      <th>Morgan Street Brewery</th>\n",
              "      <td>12.000000</td>\n",
              "      <td>0.000000</td>\n",
              "      <td>12.0</td>\n",
              "      <td>12.0</td>\n",
              "      <td>23</td>\n",
              "    </tr>\n",
              "    <tr>\n",
              "      <th>Snowy Mountain Brewery</th>\n",
              "      <td>12.000000</td>\n",
              "      <td>0.408248</td>\n",
              "      <td>11.5</td>\n",
              "      <td>12.5</td>\n",
              "      <td>4</td>\n",
              "    </tr>\n",
              "    <tr>\n",
              "      <th>United Brands Company</th>\n",
              "      <td>12.000000</td>\n",
              "      <td>NaN</td>\n",
              "      <td>12.0</td>\n",
              "      <td>12.0</td>\n",
              "      <td>1</td>\n",
              "    </tr>\n",
              "  </tbody>\n",
              "</table>\n",
              "</div>"
            ],
            "text/plain": [
              "                               mean        std   min   max  count\n",
              "brewery_name                                                     \n",
              "Schorschbräu              24.690000  17.104880   4.9  57.7     10\n",
              "Shoes Brewery             15.200000        NaN  15.2  15.2      1\n",
              "Rome Brewing Company      13.960000   1.153499  12.4  16.0      6\n",
              "Hurlimann Brewery         13.562500   0.718070  12.5  14.0      4\n",
              "Alt-Oberurseler Brauhaus  13.200000   0.000000  13.2  13.2      3\n",
              "Rascal Creek Brewing Co.  13.000000        NaN  13.0  13.0      1\n",
              "Monks Porter House        12.466667   3.165965  10.3  16.1      3\n",
              "Morgan Street Brewery     12.000000   0.000000  12.0  12.0     23\n",
              "Snowy Mountain Brewery    12.000000   0.408248  11.5  12.5      4\n",
              "United Brands Company     12.000000        NaN  12.0  12.0      1"
            ]
          },
          "metadata": {
            "tags": []
          },
          "execution_count": 12
        }
      ]
    },
    {
      "cell_type": "code",
      "metadata": {
        "id": "md31PE7FtoEb",
        "colab_type": "code",
        "colab": {
          "base_uri": "https://localhost:8080/",
          "height": 235
        },
        "outputId": "f17aae80-67d7-44dc-f63e-12f59e478a52"
      },
      "source": [
        "# Even Schorschbräu has more beer with ABV above 25% than others\n",
        "df.loc[df.beer_abv > 25].drop_duplicates(['brewery_name', 'beer_name'])\\\n",
        ".groupby('brewery_name').count()\\\n",
        ".rename(columns={'brewery_id' : 'count_of_beers'})\\\n",
        ".filter(['brewery_name', 'count_of_beers'])"
      ],
      "execution_count": null,
      "outputs": [
        {
          "output_type": "execute_result",
          "data": {
            "text/html": [
              "<div>\n",
              "<style scoped>\n",
              "    .dataframe tbody tr th:only-of-type {\n",
              "        vertical-align: middle;\n",
              "    }\n",
              "\n",
              "    .dataframe tbody tr th {\n",
              "        vertical-align: top;\n",
              "    }\n",
              "\n",
              "    .dataframe thead th {\n",
              "        text-align: right;\n",
              "    }\n",
              "</style>\n",
              "<table border=\"1\" class=\"dataframe\">\n",
              "  <thead>\n",
              "    <tr style=\"text-align: right;\">\n",
              "      <th></th>\n",
              "      <th>count_of_beers</th>\n",
              "    </tr>\n",
              "    <tr>\n",
              "      <th>brewery_name</th>\n",
              "      <th></th>\n",
              "    </tr>\n",
              "  </thead>\n",
              "  <tbody>\n",
              "    <tr>\n",
              "      <th>Boston Beer Company (Samuel Adams)</th>\n",
              "      <td>1</td>\n",
              "    </tr>\n",
              "    <tr>\n",
              "      <th>BrewDog</th>\n",
              "      <td>3</td>\n",
              "    </tr>\n",
              "    <tr>\n",
              "      <th>De Struise Brouwers</th>\n",
              "      <td>2</td>\n",
              "    </tr>\n",
              "    <tr>\n",
              "      <th>Hair of the Dog Brewing Company / Brewery and Tasting Room</th>\n",
              "      <td>1</td>\n",
              "    </tr>\n",
              "    <tr>\n",
              "      <th>Schorschbräu</th>\n",
              "      <td>4</td>\n",
              "    </tr>\n",
              "  </tbody>\n",
              "</table>\n",
              "</div>"
            ],
            "text/plain": [
              "                                                    count_of_beers\n",
              "brewery_name                                                      \n",
              "Boston Beer Company (Samuel Adams)                               1\n",
              "BrewDog                                                          3\n",
              "De Struise Brouwers                                              2\n",
              "Hair of the Dog Brewing Company / Brewery and T...               1\n",
              "Schorschbräu                                                     4"
            ]
          },
          "metadata": {
            "tags": []
          },
          "execution_count": 13
        }
      ]
    },
    {
      "cell_type": "markdown",
      "metadata": {
        "id": "OdCYSzCxvblS",
        "colab_type": "text"
      },
      "source": [
        "\n",
        "## Question 2\n",
        "If you had to pick 3 beers to recommend using only this data, which would you\n",
        "pick?\n",
        "\n",
        "First, we remove all the duplicate reviews. Then we ignore the beers that have fewer reviews than our threshold. Here the threshold is set to \"mean+3std\".  Generally speaking, this will only include less than 0.3% of the data. Also, from Figure 1, we can infer that more than 18k of total beers (almost 60K) have exactly one review, and logically one review is not sufficient to generalize. \n",
        "\n",
        "After discarding the beers following the instruction above, we display those who have a score of 4.5 and above. Because they have a close score and similar std, min, and max, we chose the best beers based on the number of reviews; that is:\n",
        "\n",
        "\n",
        "1.   **Pliny The Elder**\n",
        "2.   **Weihenstephaner Hefeweissbier**\n",
        "3.   **Trappist Westvleteren 12**\n",
        "\n",
        "\n",
        "\n"
      ]
    },
    {
      "cell_type": "code",
      "metadata": {
        "id": "0RJYY3INvl9K",
        "colab_type": "code",
        "colab": {
          "base_uri": "https://localhost:8080/",
          "height": 102
        },
        "outputId": "e05c40cf-33e0-41e7-d25f-f7149888202b"
      },
      "source": [
        "# remove duplicate reviews\n",
        "df = df.drop_duplicates(['review_profilename', 'beer_beerid'])\n",
        "# finding the appropriate threshold\n",
        "review_beer_frequncy = df.groupby(['beer_name']).beer_name.count()\n",
        "print('\"Minimum\" of number of reviews for a beer:', review_beer_frequncy.min())\n",
        "print('\"Average\" of number of reviews for a beer:', review_beer_frequncy.mean())\n",
        "print('\"St. Dev\" of number of reviews for a beer:', review_beer_frequncy.std())\n",
        "print('\"Maximum\" of number of reviews for a beer:', review_beer_frequncy.max())\n",
        "threshold = round(review_beer_frequncy.mean() + 3*review_beer_frequncy.std())\n",
        "print('The chosen threshold is:', threshold)"
      ],
      "execution_count": null,
      "outputs": [
        {
          "output_type": "stream",
          "text": [
            "\"Minimum\" of number of reviews for a beer: 1\n",
            "\"Average\" of number of reviews for a beer: 27.644933781240656\n",
            "\"St. Dev\" of number of reviews for a beer: 120.44624591657384\n",
            "\"Maximum\" of number of reviews for a beer: 3207\n",
            "The chosen threshold is: 389\n"
          ],
          "name": "stdout"
        }
      ]
    },
    {
      "cell_type": "code",
      "metadata": {
        "id": "X9Qtt-0zxzSV",
        "colab_type": "code",
        "colab": {
          "base_uri": "https://localhost:8080/",
          "height": 295
        },
        "outputId": "5e8a2871-b499-4c69-c8ef-4dab5fcec3cb"
      },
      "source": [
        "# plotting the frequency of review counts\n",
        "min_reviews = 1       # start from 1\n",
        "max_reviews = 300     # not more than 3290\n",
        "x = review_beer_frequncy.values\n",
        "y = np.bincount(x, minlength= x.shape[0])\n",
        "x = range(x.shape[0])\n",
        "plt.bar(x[min_reviews:max_reviews+1],y[min_reviews:max_reviews+1])\n",
        "plt.title('Figure 1: Frequency of beers that have a certain number of reviews')\n",
        "plt.xlabel('Number of Reviews')\n",
        "plt.ylabel('Frequency of Beers')\n",
        "plt.show()"
      ],
      "execution_count": null,
      "outputs": [
        {
          "output_type": "display_data",
          "data": {
            "image/png": "[encoded data removed]",
            "text/plain": [
              "<Figure size 432x288 with 1 Axes>"
            ]
          },
          "metadata": {
            "tags": [],
            "needs_background": "light"
          }
        }
      ]
    },
    {
      "cell_type": "code",
      "metadata": {
        "id": "Pw7bmYXS5pHm",
        "colab_type": "code",
        "colab": {
          "base_uri": "https://localhost:8080/",
          "height": 328
        },
        "outputId": "4232e5f0-f44b-4110-d483-dd8e69b2c756"
      },
      "source": [
        "# query number of reviews per beer\n",
        "query1 = df.groupby('beer_name').beer_name.count()\\\n",
        "       .reset_index(name='review_count')\n",
        "# remove those below the threshold\n",
        "query1 = query1.query(\"review_count >= \" + str(threshold))\n",
        "# find mean, std, min, max, count of reviews for each beer\n",
        "query2 = df.loc[df['beer_name'].isin(query1.beer_name)].groupby('beer_name')\\\n",
        "         .review_overall.agg(['mean', 'std','min','max','count'])\\\n",
        "         .sort_values('mean', ascending= False)\n",
        "# show those which have average review more than 4.5 and sort based on #reviews\n",
        "query2.query('mean >= 4.5').sort_values('count', ascending= False)"
      ],
      "execution_count": null,
      "outputs": [
        {
          "output_type": "execute_result",
          "data": {
            "text/html": [
              "<div>\n",
              "<style scoped>\n",
              "    .dataframe tbody tr th:only-of-type {\n",
              "        vertical-align: middle;\n",
              "    }\n",
              "\n",
              "    .dataframe tbody tr th {\n",
              "        vertical-align: top;\n",
              "    }\n",
              "\n",
              "    .dataframe thead th {\n",
              "        text-align: right;\n",
              "    }\n",
              "</style>\n",
              "<table border=\"1\" class=\"dataframe\">\n",
              "  <thead>\n",
              "    <tr style=\"text-align: right;\">\n",
              "      <th></th>\n",
              "      <th>mean</th>\n",
              "      <th>std</th>\n",
              "      <th>min</th>\n",
              "      <th>max</th>\n",
              "      <th>count</th>\n",
              "    </tr>\n",
              "    <tr>\n",
              "      <th>beer_name</th>\n",
              "      <th></th>\n",
              "      <th></th>\n",
              "      <th></th>\n",
              "      <th></th>\n",
              "      <th></th>\n",
              "    </tr>\n",
              "  </thead>\n",
              "  <tbody>\n",
              "    <tr>\n",
              "      <th>Pliny The Elder</th>\n",
              "      <td>4.593544</td>\n",
              "      <td>0.453275</td>\n",
              "      <td>1.0</td>\n",
              "      <td>5.0</td>\n",
              "      <td>2432</td>\n",
              "    </tr>\n",
              "    <tr>\n",
              "      <th>Weihenstephaner Hefeweissbier</th>\n",
              "      <td>4.515625</td>\n",
              "      <td>0.466331</td>\n",
              "      <td>1.5</td>\n",
              "      <td>5.0</td>\n",
              "      <td>1952</td>\n",
              "    </tr>\n",
              "    <tr>\n",
              "      <th>Trappist Westvleteren 12</th>\n",
              "      <td>4.617925</td>\n",
              "      <td>0.441112</td>\n",
              "      <td>2.0</td>\n",
              "      <td>5.0</td>\n",
              "      <td>1272</td>\n",
              "    </tr>\n",
              "    <tr>\n",
              "      <th>Trappist Westvleteren 8</th>\n",
              "      <td>4.514144</td>\n",
              "      <td>0.452188</td>\n",
              "      <td>3.0</td>\n",
              "      <td>5.0</td>\n",
              "      <td>707</td>\n",
              "    </tr>\n",
              "    <tr>\n",
              "      <th>Founders CBS Imperial Stout</th>\n",
              "      <td>4.592233</td>\n",
              "      <td>0.432180</td>\n",
              "      <td>2.0</td>\n",
              "      <td>5.0</td>\n",
              "      <td>618</td>\n",
              "    </tr>\n",
              "    <tr>\n",
              "      <th>Pliny The Younger</th>\n",
              "      <td>4.597973</td>\n",
              "      <td>0.473168</td>\n",
              "      <td>2.5</td>\n",
              "      <td>5.0</td>\n",
              "      <td>592</td>\n",
              "    </tr>\n",
              "    <tr>\n",
              "      <th>Heady Topper</th>\n",
              "      <td>4.618510</td>\n",
              "      <td>0.363891</td>\n",
              "      <td>3.5</td>\n",
              "      <td>5.0</td>\n",
              "      <td>443</td>\n",
              "    </tr>\n",
              "    <tr>\n",
              "      <th>Portsmouth Kate The Great</th>\n",
              "      <td>4.544048</td>\n",
              "      <td>0.541665</td>\n",
              "      <td>2.0</td>\n",
              "      <td>5.0</td>\n",
              "      <td>420</td>\n",
              "    </tr>\n",
              "  </tbody>\n",
              "</table>\n",
              "</div>"
            ],
            "text/plain": [
              "                                   mean       std  min  max  count\n",
              "beer_name                                                         \n",
              "Pliny The Elder                4.593544  0.453275  1.0  5.0   2432\n",
              "Weihenstephaner Hefeweissbier  4.515625  0.466331  1.5  5.0   1952\n",
              "Trappist Westvleteren 12       4.617925  0.441112  2.0  5.0   1272\n",
              "Trappist Westvleteren 8        4.514144  0.452188  3.0  5.0    707\n",
              "Founders CBS Imperial Stout    4.592233  0.432180  2.0  5.0    618\n",
              "Pliny The Younger              4.597973  0.473168  2.5  5.0    592\n",
              "Heady Topper                   4.618510  0.363891  3.5  5.0    443\n",
              "Portsmouth Kate The Great      4.544048  0.541665  2.0  5.0    420"
            ]
          },
          "metadata": {
            "tags": []
          },
          "execution_count": 16
        }
      ]
    },
    {
      "cell_type": "markdown",
      "metadata": {
        "id": "plhdz7EfAk5H",
        "colab_type": "text"
      },
      "source": [
        "## Question 3\n",
        "\n",
        "Which of the factors (aroma, taste, appearance, palette) are most important in\n",
        "determining the overall quality of a beer?\n",
        "\n",
        "A good approach to check the correlation between these factors and the overall_review. The most correlated factor is the most important. Based on the following query, the answer would be **taste**.\n"
      ]
    },
    {
      "cell_type": "code",
      "metadata": {
        "id": "qBL7id7kdwb8",
        "colab_type": "code",
        "colab": {
          "base_uri": "https://localhost:8080/",
          "height": 362
        },
        "outputId": "a13e8b4a-3e8a-4aec-d068-93781014f51b"
      },
      "source": [
        "# find the correlation matrix\n",
        "query = df[['review_overall', 'review_aroma', 'review_appearance',\n",
        "            'review_palate', 'review_taste']].corr()\n",
        "plt.bar(query.index[1:5], query['review_overall'][1:5])\n",
        "plt.xticks(rotation=45)\n",
        "plt.ylabel('Correlation')\n",
        "plt.xlabel('Factors')\n",
        "plt.title('Correlation between Overall_Review and other Factors')\n",
        "plt.show()"
      ],
      "execution_count": null,
      "outputs": [
        {
          "output_type": "display_data",
          "data": {
            "image/png": "[encoded data removed]",
            "text/plain": [
              "<Figure size 432x288 with 1 Axes>"
            ]
          },
          "metadata": {
            "tags": [],
            "needs_background": "light"
          }
        }
      ]
    },
    {
      "cell_type": "markdown",
      "metadata": {
        "id": "qZAJ4z01GaiC",
        "colab_type": "text"
      },
      "source": [
        "## Question 4\n",
        "\n",
        "Lastly, if I typically enjoy a beer due to its aroma and appearance, which beer style should I try?\n",
        "\n",
        "To make a decision, we create an indicator called **aroma\\*appearance**, which is equal to the multiplication of aroma and appearance values. The beer style with the highest **aroma\\*appearance** and number of reviews is the best. \n",
        "\n",
        "By looking at the two tables below, it turns out there is no beer style that has the highest **aroma\\*appearance** and number of reviews. Therefore, we can pick the top three beer styles. Although \"Quadrupel (Quad)\" has a good review but its number of reviews is not as much as the following beer styles. All of them are in the top 5 of both tables.\n",
        "\n",
        "\n",
        "1.   **American Double / Imperial IPA**\n",
        "2.   **Russian Imperial Stout**\n",
        "3.   **American Double / Imperial Stout**\n",
        "\n"
      ]
    },
    {
      "cell_type": "code",
      "metadata": {
        "id": "-7nD4uTlCGZf",
        "colab_type": "code",
        "colab": {
          "base_uri": "https://localhost:8080/",
          "height": 340
        },
        "outputId": "ea68e143-63bc-4018-e162-48a91b89dd41"
      },
      "source": [
        "# add a decision indicator\n",
        "df['aroma*appearance'] = df.review_aroma * df.review_appearance\n",
        "# query number of reviews per beer style\n",
        "query1 = df.groupby('beer_style').beer_style.count()\\\n",
        "       .reset_index(name='review_count')\n",
        "# find mean and count of our indicator for each beer style\n",
        "query2 = df.loc[df['beer_style'].isin(query1.beer_style)].groupby('beer_style')\\\n",
        "         ['aroma*appearance'].agg(['mean','count'])\n",
        "# filter those with score of 20 and above and sort based on count\n",
        "print('Maximum value for our indicator:', query2['mean'].max())\n",
        "print()\n",
        "print('Top 5 beer styles with the highest indicator')\n",
        "print(query2.query('mean >= 16').sort_values('count' , ascending= False).head())\n",
        "print()\n",
        "print('Top 5 beer styles with the highest review counts')\n",
        "print(query2.query('mean >= 16').sort_values('mean' , ascending= False).head())"
      ],
      "execution_count": null,
      "outputs": [
        {
          "output_type": "stream",
          "text": [
            "Maximum value for our indicator: 17.41038563538115\n",
            "\n",
            "Top 5 beer styles with the highest indicator\n",
            "                                       mean  count\n",
            "beer_style                                        \n",
            "American Double / Imperial IPA    16.796814  84686\n",
            "Russian Imperial Stout            17.252843  53555\n",
            "American Double / Imperial Stout  17.410386  50151\n",
            "Belgian Strong Dark Ale           16.018513  37514\n",
            "American Strong Ale               16.134930  31620\n",
            "\n",
            "Top 5 beer styles with the highest review counts\n",
            "                                       mean  count\n",
            "beer_style                                        \n",
            "American Double / Imperial Stout  17.410386  50151\n",
            "Russian Imperial Stout            17.252843  53555\n",
            "Quadrupel (Quad)                  17.139372  17995\n",
            "American Double / Imperial IPA    16.796814  84686\n",
            "Gueuze                            16.734328   5982\n"
          ],
          "name": "stdout"
        }
      ]
    }
  ]
}